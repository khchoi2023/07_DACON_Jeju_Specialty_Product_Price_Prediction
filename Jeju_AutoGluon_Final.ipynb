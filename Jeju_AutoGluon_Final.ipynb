{
 "cells": [
  {
   "cell_type": "code",
   "execution_count": null,
   "id": "8d4496ad",
   "metadata": {},
   "outputs": [],
   "source": [
    "# pip install -U pip\n",
    "# C:\\ProgramData\\anaconda3\\envs\\asac\\python.exe -m pip install -U pip\n",
    "# pip install -U setuptools wheel\n",
    "# pip install torch==1.13.1+cpu torchvision==0.14.1+cpu -f https://download.pytorch.org/whl/cpu/torch_stable.html\n",
    "# pip install autogluon"
   ]
  },
  {
   "cell_type": "code",
   "execution_count": null,
   "id": "a80c9718",
   "metadata": {},
   "outputs": [],
   "source": [
    "import autogluon.core as ag\n",
    "from autogluon.tabular import TabularDataset, TabularPredictor\n",
    "from autogluon.timeseries import TimeSeriesDataFrame, TimeSeriesPredictor"
   ]
  },
  {
   "cell_type": "code",
   "execution_count": null,
   "id": "b666390f",
   "metadata": {},
   "outputs": [],
   "source": [
    "import os\n",
    "import time\n",
    "import random\n",
    "import numpy as np\n",
    "import pandas as pd\n",
    "# import seaborn as sns\n",
    "import matplotlib.pyplot as plt\n",
    "\n",
    "%matplotlib inline\n",
    "from sklearn.ensemble import RandomForestRegressor\n",
    "from sklearn.preprocessing import LabelEncoder\n",
    "\n",
    "import warnings\n",
    "warnings.filterwarnings(action='ignore')"
   ]
  },
  {
   "cell_type": "code",
   "execution_count": null,
   "id": "ec026233",
   "metadata": {},
   "outputs": [],
   "source": [
    "now = time\n",
    "year = now.localtime().tm_year\n",
    "mon = now.localtime().tm_mon\n",
    "day = now.localtime().tm_mday\n",
    "hour = now.localtime().tm_hour\n",
    "min = now.localtime().tm_min\n",
    "sec = now.localtime().tm_sec\n",
    "\n",
    "\n",
    "# start = (year,'/',mon,'/',day,' ',hour,':',min,':',sec)\n",
    "start = year, mon, day, hour, min, sec\n",
    "print(start)"
   ]
  },
  {
   "cell_type": "markdown",
   "id": "9cfffe6c",
   "metadata": {},
   "source": [
    "## Fixed Random-Seed"
   ]
  },
  {
   "cell_type": "code",
   "execution_count": null,
   "id": "6543f06f",
   "metadata": {},
   "outputs": [],
   "source": [
    "def seed_everything(seed):\n",
    "    random.seed(seed)\n",
    "    os.environ['PYTHONHASHSEED'] = str(seed)\n",
    "    np.random.seed(seed)\n",
    "\n",
    "seed_everything(42) # Seed 고정"
   ]
  },
  {
   "cell_type": "markdown",
   "id": "652362ac",
   "metadata": {},
   "source": [
    "# Load Data"
   ]
  },
  {
   "cell_type": "code",
   "execution_count": null,
   "id": "02ee37e8",
   "metadata": {},
   "outputs": [],
   "source": [
    "train_df = pd.read_csv('train.csv')\n",
    "test_df = pd.read_csv('test.csv')"
   ]
  },
  {
   "cell_type": "code",
   "execution_count": null,
   "id": "9c01c9bb",
   "metadata": {},
   "outputs": [],
   "source": [
    "train_df"
   ]
  },
  {
   "cell_type": "code",
   "execution_count": null,
   "id": "dcd1613d",
   "metadata": {},
   "outputs": [],
   "source": [
    "test_df"
   ]
  },
  {
   "cell_type": "code",
   "execution_count": null,
   "id": "4e8b8d57",
   "metadata": {},
   "outputs": [],
   "source": [
    "train_df = train_df.rename(columns={\n",
    "    'price(원/kg)': 'price(KRW/kg)'\n",
    "})\n",
    "\n",
    "train_df.head()"
   ]
  },
  {
   "cell_type": "code",
   "execution_count": null,
   "id": "a8529d05",
   "metadata": {},
   "outputs": [],
   "source": [
    "train_df = TabularDataset(train_df)\n",
    "test_df = TabularDataset(test_df)"
   ]
  },
  {
   "cell_type": "markdown",
   "id": "99667d28",
   "metadata": {},
   "source": [
    "## Data Pre-Processing"
   ]
  },
  {
   "cell_type": "code",
   "execution_count": null,
   "id": "755ecf22",
   "metadata": {},
   "outputs": [],
   "source": [
    "#시계열 특성을 학습에 반영하기 위해 timestamp를 월, 일, 시간으로 나눔\n",
    "train_df['year'] = train_df['timestamp'].apply(lambda x : int(x[0:4]))\n",
    "train_df['month'] = train_df['timestamp'].apply(lambda x : int(x[5:7]))\n",
    "train_df['day'] = train_df['timestamp'].apply(lambda x : int(x[8:10]))\n",
    "\n",
    "test_df['year'] = test_df['timestamp'].apply(lambda x : int(x[0:4]))\n",
    "test_df['month'] = test_df['timestamp'].apply(lambda x : int(x[5:7]))\n",
    "test_df['day'] = test_df['timestamp'].apply(lambda x : int(x[8:10]))\n",
    "\n",
    "\n",
    "# 요일 추가\n",
    "train_df['date'] = pd.to_datetime(train_df[['year', 'month', 'day']])\n",
    "train_df['dayofweek'] = (train_df['date'].dt.dayofweek + 1) % 7\n",
    "train_df = train_df.drop(columns=['date'])\n",
    "\n",
    "test_df['date'] = pd.to_datetime(test_df[['year', 'month', 'day']])\n",
    "test_df['dayofweek'] = (test_df['date'].dt.dayofweek + 1) % 7\n",
    "test_df = test_df.drop(columns=['date'])\n",
    "\n",
    "\n",
    "# 쉬는날(일요일) 추가\n",
    "train_df.loc[(train_df['dayofweek'] == 0), 'sun day'] = 1\n",
    "test_df.loc[(test_df['dayofweek'] == 0), 'sun day'] = 1\n",
    "\n",
    "\n",
    "# 월 전반/후반 추가\n",
    "train_df.loc[(train_df['day'] <= 15), 'half'] = 1\n",
    "train_df.loc[(train_df['day'] > 15), 'half'] = 2\n",
    "test_df.loc[(test_df['day'] <= 15), 'half'] = 1\n",
    "test_df.loc[(test_df['day'] > 15), 'half'] = 2\n",
    "\n",
    "\n",
    "# 월 1주 2주 3주 마지막주 추가\n",
    "train_df.loc[(train_df['day'] <= 7), 'week_count'] = 1\n",
    "train_df.loc[(7 < train_df['day']) & (train_df['day'] <= 14), 'week_count'] = 2\n",
    "train_df.loc[(14 < train_df['day']) & (train_df['day'] <= 21), 'week_count'] = 3\n",
    "train_df.loc[(21 < train_df['day']), 'half'] = 4\n",
    "\n",
    "test_df.loc[(test_df['day'] <= 7), 'week_count'] = 1\n",
    "test_df.loc[(7 < test_df['day']) & (test_df['day'] <= 14), 'week_count'] = 2\n",
    "test_df.loc[(14 < test_df['day']) & (test_df['day'] <= 21), 'week_count'] = 3\n",
    "test_df.loc[(21 < test_df['day']), 'week_count'] = 4\n",
    "\n",
    "\n",
    "# 나머지 결측값을 0으로 채우기\n",
    "train_df = train_df.fillna(0)\n",
    "test_df = test_df.fillna(0)\n",
    "\n",
    "\n",
    "#학습에 사용하지 않을 변수들을 제거\n",
    "train_df = train_df.drop(columns=['ID', 'timestamp', 'supply(kg)'])\n",
    "test_df = test_df.drop(columns=['ID', 'timestamp'])\n",
    "\n",
    "\n",
    "# 라벨 인코딩\n",
    "qual_col = ['item', 'corporation', 'location']\n",
    "\n",
    "\n",
    "for i in qual_col:\n",
    "    le = LabelEncoder()\n",
    "    train_df[i]=le.fit_transform(train_df[i])\n",
    "    test_df[i]=le.transform(test_df[i])\n",
    "\n",
    "\n",
    "print('Done.')"
   ]
  },
  {
   "cell_type": "code",
   "execution_count": null,
   "id": "83007482",
   "metadata": {},
   "outputs": [],
   "source": [
    "train_df.head(40)"
   ]
  },
  {
   "cell_type": "code",
   "execution_count": null,
   "id": "d6f69133",
   "metadata": {},
   "outputs": [],
   "source": [
    "test_df.head(40)"
   ]
  },
  {
   "cell_type": "code",
   "execution_count": null,
   "id": "3bacbe8d",
   "metadata": {
    "scrolled": true
   },
   "outputs": [],
   "source": [
    "# predictor = TabularPredictor(label = 'price(KRW/kg)', problem_type = 'regression', eval_metric = 'mae'\n",
    "#                             ).fit(train_df,\n",
    "#                                   presets = 'best_quality',\n",
    "#                                   num_stack_levels = 5,\n",
    "#                                   # time_limit = 3600 * 6, num_gpus=1)\n",
    "#                                   time_limit = 6, num_gpus=1)\n",
    "\n",
    "predictor = TabularPredictor(label = 'price(KRW/kg)', problem_type = 'regression', eval_metric = 'mae',\n",
    "                             path = './AutogluonModels/fold10_bag_30_stack_3')\n",
    "\n",
    "predictor.fit(train_data = train_df, presets = 'best_quality',\n",
    "              auto_stack = True, fit_weighted_ensemble = True,\n",
    "              num_bag_folds = 10, num_bag_sets = 30, num_stack_levels = 3,\n",
    "              num_gpus = 1, num_cpus = 4, verbosity = 2)\n",
    "              # num_gpus = 1, num_cpus = 24, verbosity = 2)"
   ]
  },
  {
   "cell_type": "code",
   "execution_count": null,
   "id": "7faf8b9f",
   "metadata": {},
   "outputs": [],
   "source": [
    "# print(predictor.leaderboard(silent = True))\n",
    "\n",
    "# Leaderboard 확인\n",
    "leaderboard = predictor.leaderboard(train_df, silent = True, extra_metrics = ['rmse', 'mape'])\n",
    "leaderboard.head(10)"
   ]
  },
  {
   "cell_type": "code",
   "execution_count": null,
   "id": "dd782c30",
   "metadata": {},
   "outputs": [],
   "source": [
    "# Feature Importance 확인\n",
    "feature_importance = predictor.feature_importance(train_df)\n",
    "feature_importance"
   ]
  },
  {
   "cell_type": "code",
   "execution_count": null,
   "id": "b2d0cea7",
   "metadata": {},
   "outputs": [],
   "source": [
    "submission = pd.read_csv('sample_submission.csv')\n",
    "pred = predictor.predict(test_df)"
   ]
  },
  {
   "cell_type": "code",
   "execution_count": null,
   "id": "f19e0de9",
   "metadata": {},
   "outputs": [],
   "source": [
    "submission['answer'] = pred.round(2)\n",
    "submission.to_csv('autogluon-final.csv', index = False)\n",
    "display(submission)"
   ]
  },
  {
   "cell_type": "code",
   "execution_count": null,
   "id": "80408903",
   "metadata": {},
   "outputs": [],
   "source": []
  }
 ],
 "metadata": {
  "kernelspec": {
   "display_name": "autogluon",
   "language": "python",
   "name": "autogluon"
  },
  "language_info": {
   "codemirror_mode": {
    "name": "ipython",
    "version": 3
   },
   "file_extension": ".py",
   "mimetype": "text/x-python",
   "name": "python",
   "nbconvert_exporter": "python",
   "pygments_lexer": "ipython3",
   "version": "3.10.9"
  }
 },
 "nbformat": 4,
 "nbformat_minor": 5
}
